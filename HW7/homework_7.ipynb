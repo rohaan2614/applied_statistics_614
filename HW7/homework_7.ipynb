{
 "cells": [
  {
   "cell_type": "code",
   "execution_count": 1,
   "metadata": {},
   "outputs": [],
   "source": [
    "from scipy.stats import norm"
   ]
  },
  {
   "attachments": {},
   "cell_type": "markdown",
   "metadata": {},
   "source": [
    "# Question 1"
   ]
  },
  {
   "attachments": {},
   "cell_type": "markdown",
   "metadata": {},
   "source": [
    "## Part (a)"
   ]
  },
  {
   "attachments": {},
   "cell_type": "markdown",
   "metadata": {},
   "source": [
    "1. Claim [NOT GIVEN]\n",
    "2. Parameter of interest is: **𝜇**\n",
    "3. Hypotheses:\n",
    "\n",
    "    H<sub>0</sub>: 𝜇 = 15\n",
    "    \n",
    "    H<sub>1</sub>: 𝜇 > 15\n",
    "4. Level of Significance is __𝛼__ = 0.05"
   ]
  },
  {
   "attachments": {},
   "cell_type": "markdown",
   "metadata": {},
   "source": [
    "### Test Statistic"
   ]
  },
  {
   "cell_type": "code",
   "execution_count": 237,
   "metadata": {},
   "outputs": [
    {
     "name": "stdout",
     "output_type": "stream",
     "text": [
      "Test Statistic :  1.873\n"
     ]
    }
   ],
   "source": [
    "z_o = (15.6 - 15)/(4/39)**0.5\n",
    "print('Test Statistic : ', round(z_o,3))"
   ]
  },
  {
   "attachments": {},
   "cell_type": "markdown",
   "metadata": {},
   "source": [
    "### P-Value"
   ]
  },
  {
   "cell_type": "code",
   "execution_count": 264,
   "metadata": {},
   "outputs": [
    {
     "name": "stdout",
     "output_type": "stream",
     "text": [
      "P(Z > Z_o) =  0.030499727793527276\n",
      "Rejection Region: p < 0.05\n"
     ]
    }
   ],
   "source": [
    "p = 1 - norm.cdf(z_o)\n",
    "print('P(Z > Z_o) = ', p)\n",
    "print(\"Rejection Region: p < 0.05\")"
   ]
  },
  {
   "attachments": {},
   "cell_type": "markdown",
   "metadata": {},
   "source": [
    "### Conclusion"
   ]
  },
  {
   "cell_type": "code",
   "execution_count": 265,
   "metadata": {},
   "outputs": [
    {
     "name": "stdout",
     "output_type": "stream",
     "text": [
      "Sufficient evidence to reject null hypothesis at 5.0 % level of significance.\n"
     ]
    }
   ],
   "source": [
    "alpha = 0.05\n",
    "if (p < alpha) : \n",
    "    print(f'Sufficient evidence to reject null hypothesis at {alpha*100} % level of significance.')\n",
    "else:\n",
    "    print(f'Insufficient evidence to reject null hypothesis at {alpha*100} % level of significance.')"
   ]
  },
  {
   "attachments": {},
   "cell_type": "markdown",
   "metadata": {},
   "source": [
    "## Part (b)"
   ]
  },
  {
   "attachments": {},
   "cell_type": "markdown",
   "metadata": {},
   "source": [
    "1. Claim [NOT GIVEN]\n",
    "2. Parameter of interest is: **𝜇**\n",
    "3. Hypotheses:\n",
    "\n",
    "    H<sub>0</sub>: 𝜇 = 15\n",
    "    \n",
    "    H<sub>1</sub>: 𝜇 > 15\n",
    "4. Level of Significance is __𝛼__ = 0.01"
   ]
  },
  {
   "cell_type": "markdown",
   "metadata": {},
   "source": [
    "### Test Statistic"
   ]
  },
  {
   "cell_type": "code",
   "execution_count": 243,
   "metadata": {},
   "outputs": [
    {
     "name": "stdout",
     "output_type": "stream",
     "text": [
      "Test Statistic :  1.873\n"
     ]
    }
   ],
   "source": [
    "z_o = (15.6 - 15)/(4/39)**0.5\n",
    "print('Test Statistic : ', round(z_o,3))"
   ]
  },
  {
   "cell_type": "markdown",
   "metadata": {},
   "source": [
    "### P-Value"
   ]
  },
  {
   "cell_type": "code",
   "execution_count": 266,
   "metadata": {},
   "outputs": [
    {
     "name": "stdout",
     "output_type": "stream",
     "text": [
      "P(Z > Z_o) =  0.030499727793527276\n",
      "Rejection Region: p < 0.01\n"
     ]
    }
   ],
   "source": [
    "p = 1 - norm.cdf(z_o)\n",
    "print('P(Z > Z_o) = ', p)\n",
    "print(\"Rejection Region: p < 0.01\")"
   ]
  },
  {
   "cell_type": "markdown",
   "metadata": {},
   "source": [
    "### Conclusion"
   ]
  },
  {
   "cell_type": "code",
   "execution_count": 267,
   "metadata": {},
   "outputs": [
    {
     "name": "stdout",
     "output_type": "stream",
     "text": [
      "Insufficient evidence to reject null hypothesis at 1.0 % level of significance.\n"
     ]
    }
   ],
   "source": [
    "alpha = 0.01\n",
    "if (p < alpha) : \n",
    "    print(f'Sufficient evidence to reject null hypothesis at {alpha*100} % level of significance.')\n",
    "else:\n",
    "    print(f'Insufficient evidence to reject null hypothesis at {alpha*100} % level of significance.')"
   ]
  },
  {
   "attachments": {},
   "cell_type": "markdown",
   "metadata": {},
   "source": [
    "## Part (c)"
   ]
  },
  {
   "attachments": {},
   "cell_type": "markdown",
   "metadata": {},
   "source": [
    "1. Claim [NOT GIVEN]\n",
    "2. Parameter of interest is: **𝜇**\n",
    "3. Hypotheses:\n",
    "\n",
    "    H<sub>0</sub>: 𝜇 = 15\n",
    "    \n",
    "    H<sub>1</sub>: 𝜇 < 15\n",
    "4. Level of Significance is __𝛼__ = 0.01"
   ]
  },
  {
   "cell_type": "markdown",
   "metadata": {},
   "source": [
    "### Test Statistic"
   ]
  },
  {
   "cell_type": "code",
   "execution_count": 306,
   "metadata": {},
   "outputs": [
    {
     "name": "stdout",
     "output_type": "stream",
     "text": [
      "Test Statistic :  1.873\n"
     ]
    }
   ],
   "source": [
    "z_o = (15.6 - 15)/(4/39)**0.5\n",
    "print('Test Statistic : ', round(z_o,3))"
   ]
  },
  {
   "cell_type": "markdown",
   "metadata": {},
   "source": [
    "### P-Value"
   ]
  },
  {
   "cell_type": "code",
   "execution_count": 307,
   "metadata": {},
   "outputs": [
    {
     "name": "stdout",
     "output_type": "stream",
     "text": [
      "P(Z < Z_o) =  0.9695002722064727\n",
      "Rejection Region: p < 0.01\n"
     ]
    }
   ],
   "source": [
    "p = norm.cdf(z_o)\n",
    "print('P(Z < Z_o) = ', p)\n",
    "print(\"Rejection Region: p < 0.01\")"
   ]
  },
  {
   "cell_type": "markdown",
   "metadata": {},
   "source": [
    "### Conclusion"
   ]
  },
  {
   "cell_type": "code",
   "execution_count": 308,
   "metadata": {},
   "outputs": [
    {
     "name": "stdout",
     "output_type": "stream",
     "text": [
      "Insufficient evidence to reject null hypothesis at 1.0 % level of significance.\n"
     ]
    }
   ],
   "source": [
    "alpha = 0.01\n",
    "if (p < alpha) : \n",
    "    print(f'Sufficient evidence to reject null hypothesis at {alpha*100} % level of significance.')\n",
    "else:\n",
    "    print(f'Insufficient evidence to reject null hypothesis at {alpha*100} % level of significance.')"
   ]
  },
  {
   "attachments": {},
   "cell_type": "markdown",
   "metadata": {},
   "source": [
    "## Part (d)"
   ]
  },
  {
   "attachments": {},
   "cell_type": "markdown",
   "metadata": {},
   "source": [
    "1. Claim [NOT GIVEN]\n",
    "2. Parameter of interest is: **𝜇**\n",
    "3. Hypotheses:\n",
    "\n",
    "    H<sub>0</sub>: 𝜇 = 15\n",
    "    \n",
    "    H<sub>1</sub>: 𝜇 ≠ 15\n",
    "4. Level of Significance is __𝛼__ = 0.05"
   ]
  },
  {
   "cell_type": "markdown",
   "metadata": {},
   "source": [
    "### Test Statistic"
   ]
  },
  {
   "cell_type": "code",
   "execution_count": 273,
   "metadata": {},
   "outputs": [
    {
     "name": "stdout",
     "output_type": "stream",
     "text": [
      "Test Statistic :  1.873\n",
      "Rejection Region: p < 0.01\n"
     ]
    }
   ],
   "source": [
    "z_o = (15.6 - 15)/(4/39)**0.5\n",
    "print('Test Statistic : ', round(z_o,3))\n",
    "print(\"Rejection Region: p < 0.01\")"
   ]
  },
  {
   "cell_type": "markdown",
   "metadata": {},
   "source": [
    "### P-Value"
   ]
  },
  {
   "cell_type": "code",
   "execution_count": 276,
   "metadata": {},
   "outputs": [
    {
     "name": "stdout",
     "output_type": "stream",
     "text": [
      "P(Z ≠ Z_o) =  0.06099945558705455\n",
      "Rejection Region: p < 0.05\n"
     ]
    }
   ],
   "source": [
    "p = 2*(1 - norm.cdf(z_o))\n",
    "print('P(Z ≠ Z_o) = ', p)\n",
    "print(\"Rejection Region: p < 0.05\")"
   ]
  },
  {
   "cell_type": "markdown",
   "metadata": {},
   "source": [
    "### Conclusion"
   ]
  },
  {
   "cell_type": "code",
   "execution_count": 277,
   "metadata": {},
   "outputs": [
    {
     "name": "stdout",
     "output_type": "stream",
     "text": [
      "Insufficient evidence to reject null hypothesis at 5.0 % level of significance.\n"
     ]
    }
   ],
   "source": [
    "alpha = 0.05\n",
    "if (p < alpha) : \n",
    "    print(f'Sufficient evidence to reject null hypothesis at {alpha*100} % level of significance.')\n",
    "else:\n",
    "    print(f'Insufficient evidence to reject null hypothesis at {alpha*100} % level of significance.')"
   ]
  },
  {
   "attachments": {},
   "cell_type": "markdown",
   "metadata": {},
   "source": [
    "## Part (e)"
   ]
  },
  {
   "attachments": {},
   "cell_type": "markdown",
   "metadata": {},
   "source": [
    "1. Claim [NOT GIVEN]\n",
    "2. Parameter of interest is: **𝜇**\n",
    "3. Hypotheses:\n",
    "\n",
    "    H<sub>0</sub>: 𝜇 = 15\n",
    "    \n",
    "    H<sub>1</sub>: 𝜇 ≠ 15\n",
    "4. Level of Significance is __𝛼__ = 0.10"
   ]
  },
  {
   "cell_type": "markdown",
   "metadata": {},
   "source": [
    "### Test Statistic"
   ]
  },
  {
   "cell_type": "code",
   "execution_count": 278,
   "metadata": {},
   "outputs": [
    {
     "name": "stdout",
     "output_type": "stream",
     "text": [
      "Test Statistic :  1.873\n"
     ]
    }
   ],
   "source": [
    "z_o = (15.6 - 15)/(4/39)**0.5\n",
    "print('Test Statistic : ', round(z_o,3))"
   ]
  },
  {
   "cell_type": "markdown",
   "metadata": {},
   "source": [
    "### P-Value"
   ]
  },
  {
   "cell_type": "code",
   "execution_count": 279,
   "metadata": {},
   "outputs": [
    {
     "name": "stdout",
     "output_type": "stream",
     "text": [
      "P(Z ≠ Z_o) =  0.06099945558705455\n",
      "Rejection Region: p < 0.10\n"
     ]
    }
   ],
   "source": [
    "p = 2*(1 - norm.cdf(z_o))\n",
    "print('P(Z ≠ Z_o) = ', p)\n",
    "print(\"Rejection Region: p < 0.10\")"
   ]
  },
  {
   "cell_type": "markdown",
   "metadata": {},
   "source": [
    "### Conclusion"
   ]
  },
  {
   "cell_type": "code",
   "execution_count": 280,
   "metadata": {},
   "outputs": [
    {
     "name": "stdout",
     "output_type": "stream",
     "text": [
      "Sufficient evidence to reject null hypothesis at 10.0 % level of significance.\n"
     ]
    }
   ],
   "source": [
    "alpha = 0.10\n",
    "if (p < alpha) : \n",
    "    print(f'Sufficient evidence to reject null hypothesis at {alpha*100} % level of significance.')\n",
    "else:\n",
    "    print(f'Insufficient evidence to reject null hypothesis at {alpha*100} % level of significance.')"
   ]
  },
  {
   "attachments": {},
   "cell_type": "markdown",
   "metadata": {},
   "source": [
    "# Question 2"
   ]
  },
  {
   "cell_type": "markdown",
   "metadata": {},
   "source": [
    "## Part (a)"
   ]
  },
  {
   "cell_type": "markdown",
   "metadata": {},
   "source": [
    "1. Claim [NOT GIVEN]\n",
    "2. Parameter of interest is: **𝜇**\n",
    "3. Hypotheses:\n",
    "\n",
    "    H<sub>0</sub>: 𝜇 = 15\n",
    "    \n",
    "    H<sub>1</sub>: 𝜇 > 15\n",
    "4. Level of Significance is __𝛼__ = 0.05"
   ]
  },
  {
   "cell_type": "markdown",
   "metadata": {},
   "source": [
    "### Test Statistic"
   ]
  },
  {
   "cell_type": "code",
   "execution_count": 281,
   "metadata": {},
   "outputs": [
    {
     "name": "stdout",
     "output_type": "stream",
     "text": [
      "Test Statistic :  1.873\n"
     ]
    }
   ],
   "source": [
    "z_o = (15.6 - 15)/(4/39)**0.5\n",
    "print('Test Statistic : ', round(z_o,3))"
   ]
  },
  {
   "attachments": {},
   "cell_type": "markdown",
   "metadata": {},
   "source": [
    "### Critical Value\n",
    "\n",
    "Right tailed test"
   ]
  },
  {
   "cell_type": "code",
   "execution_count": 284,
   "metadata": {},
   "outputs": [
    {
     "name": "stdout",
     "output_type": "stream",
     "text": [
      "Critical Value:  1.645\n",
      "Rejection Region: Z_o > 1.645\n"
     ]
    }
   ],
   "source": [
    "alpha = 0.05\n",
    "critical_value = norm.ppf(1-alpha)\n",
    "print('Critical Value: ', round(critical_value,3))\n",
    "print(f\"Rejection Region: Z_o > {round(critical_value,3)}\")"
   ]
  },
  {
   "cell_type": "markdown",
   "metadata": {},
   "source": [
    "### Conclusion"
   ]
  },
  {
   "cell_type": "code",
   "execution_count": 285,
   "metadata": {},
   "outputs": [
    {
     "name": "stdout",
     "output_type": "stream",
     "text": [
      "Sufficient evidence to reject null hypothesis at 5.0 % level of significance.\n"
     ]
    }
   ],
   "source": [
    "if (z_o > critical_value) : \n",
    "    print(f'Sufficient evidence to reject null hypothesis at {alpha*100} % level of significance.')\n",
    "else:\n",
    "    print(f'Insufficient evidence to reject null hypothesis at {alpha*100} % level of significance.')"
   ]
  },
  {
   "cell_type": "markdown",
   "metadata": {},
   "source": [
    "## Part (b)"
   ]
  },
  {
   "cell_type": "markdown",
   "metadata": {},
   "source": [
    "1. Claim [NOT GIVEN]\n",
    "2. Parameter of interest is: **𝜇**\n",
    "3. Hypotheses:\n",
    "\n",
    "    H<sub>0</sub>: 𝜇 = 15\n",
    "    \n",
    "    H<sub>1</sub>: 𝜇 > 15\n",
    "4. Level of Significance is __𝛼__ = 0.01"
   ]
  },
  {
   "cell_type": "markdown",
   "metadata": {},
   "source": [
    "### Test Statistic"
   ]
  },
  {
   "cell_type": "code",
   "execution_count": 286,
   "metadata": {},
   "outputs": [
    {
     "name": "stdout",
     "output_type": "stream",
     "text": [
      "Test Statistic :  1.873\n"
     ]
    }
   ],
   "source": [
    "z_o = (15.6 - 15)/(4/39)**0.5\n",
    "print('Test Statistic : ', round(z_o,3))"
   ]
  },
  {
   "cell_type": "markdown",
   "metadata": {},
   "source": [
    "### Critical Value\n",
    "\n",
    "Right tailed test"
   ]
  },
  {
   "cell_type": "code",
   "execution_count": 287,
   "metadata": {},
   "outputs": [
    {
     "name": "stdout",
     "output_type": "stream",
     "text": [
      "Critical Value:  2.326\n",
      "Rejection Region: Z_o > 2.326\n"
     ]
    }
   ],
   "source": [
    "alpha = 0.01\n",
    "critical_value = norm.ppf(1-alpha)\n",
    "print('Critical Value: ', round(critical_value,3))\n",
    "print(f\"Rejection Region: Z_o > {round(critical_value,3)}\")"
   ]
  },
  {
   "cell_type": "markdown",
   "metadata": {},
   "source": [
    "### Conclusion"
   ]
  },
  {
   "cell_type": "code",
   "execution_count": 288,
   "metadata": {},
   "outputs": [
    {
     "name": "stdout",
     "output_type": "stream",
     "text": [
      "Insufficient evidence to reject null hypothesis at 1.0 % level of significance.\n"
     ]
    }
   ],
   "source": [
    "if (z_o > critical_value) : \n",
    "    print(f'Sufficient evidence to reject null hypothesis at {alpha*100} % level of significance.')\n",
    "else:\n",
    "    print(f'Insufficient evidence to reject null hypothesis at {alpha*100} % level of significance.')"
   ]
  },
  {
   "cell_type": "markdown",
   "metadata": {},
   "source": [
    "## Part (c)"
   ]
  },
  {
   "cell_type": "markdown",
   "metadata": {},
   "source": [
    "1. Claim [NOT GIVEN]\n",
    "2. Parameter of interest is: **𝜇**\n",
    "3. Hypotheses:\n",
    "\n",
    "    H<sub>0</sub>: 𝜇 = 15\n",
    "    \n",
    "    H<sub>1</sub>: 𝜇 < 15\n",
    "4. Level of Significance is __𝛼__ = 0.01"
   ]
  },
  {
   "cell_type": "markdown",
   "metadata": {},
   "source": [
    "### Test Statistic"
   ]
  },
  {
   "cell_type": "code",
   "execution_count": 309,
   "metadata": {},
   "outputs": [
    {
     "name": "stdout",
     "output_type": "stream",
     "text": [
      "Test Statistic :  1.873\n"
     ]
    }
   ],
   "source": [
    "z_o = (15.6 - 15)/(4/39)**0.5\n",
    "print('Test Statistic : ', round(z_o,3))"
   ]
  },
  {
   "attachments": {},
   "cell_type": "markdown",
   "metadata": {},
   "source": [
    "### Critical Value\n",
    "Left tailed test"
   ]
  },
  {
   "cell_type": "code",
   "execution_count": 314,
   "metadata": {},
   "outputs": [
    {
     "name": "stdout",
     "output_type": "stream",
     "text": [
      "Critical Value:  -2.3263478740408408\n",
      "Rejection Region: Z_o < -2.326\n"
     ]
    }
   ],
   "source": [
    "alpha = 0.01\n",
    "critical_value = norm.ppf(alpha)\n",
    "print('Critical Value: ', critical_value)\n",
    "print(f\"Rejection Region: Z_o < {round(critical_value,3)}\")"
   ]
  },
  {
   "cell_type": "markdown",
   "metadata": {},
   "source": [
    "### Conclusion"
   ]
  },
  {
   "cell_type": "code",
   "execution_count": 315,
   "metadata": {},
   "outputs": [
    {
     "name": "stdout",
     "output_type": "stream",
     "text": [
      "Insufficient evidence to reject null hypothesis at 1.0 % level of significance.\n"
     ]
    }
   ],
   "source": [
    "if (z_o < critical_value) : \n",
    "    print(f'Sufficient evidence to reject null hypothesis at {alpha*100} % level of significance.')\n",
    "else:\n",
    "    print(f'Insufficient evidence to reject null hypothesis at {alpha*100} % level of significance.')"
   ]
  },
  {
   "cell_type": "markdown",
   "metadata": {},
   "source": [
    "## Part (d)"
   ]
  },
  {
   "cell_type": "markdown",
   "metadata": {},
   "source": [
    "1. Claim [NOT GIVEN]\n",
    "2. Parameter of interest is: **𝜇**\n",
    "3. Hypotheses:\n",
    "\n",
    "    H<sub>0</sub>: 𝜇 = 15\n",
    "    \n",
    "    H<sub>1</sub>: 𝜇 ≠ 15\n",
    "4. Level of Significance is __𝛼__ = 0.05"
   ]
  },
  {
   "cell_type": "markdown",
   "metadata": {},
   "source": [
    "### Test Statistic"
   ]
  },
  {
   "cell_type": "code",
   "execution_count": 295,
   "metadata": {},
   "outputs": [
    {
     "name": "stdout",
     "output_type": "stream",
     "text": [
      "Test Statistic :  1.873\n"
     ]
    }
   ],
   "source": [
    "z_o = (15.6 - 15)/(4/39)**0.5\n",
    "print('Test Statistic : ', round(z_o,3))"
   ]
  },
  {
   "cell_type": "markdown",
   "metadata": {},
   "source": [
    "### Critical Value"
   ]
  },
  {
   "cell_type": "code",
   "execution_count": 299,
   "metadata": {},
   "outputs": [
    {
     "name": "stdout",
     "output_type": "stream",
     "text": [
      "Critical Values:  [-1.96, 1.96]\n",
      "Rejection Region: 1.96 < Z_o  OR Z_o < -1.96\n"
     ]
    }
   ],
   "source": [
    "alpha = 0.05\n",
    "critical_values = [round(norm.ppf(alpha/2),3), round(norm.ppf(1-alpha/2),3)]\n",
    "print('Critical Values: ', critical_values)\n",
    "print(f\"Rejection Region: {round(critical_values[1],3)} < Z_o  OR Z_o < {round(critical_values[0],3)}\")"
   ]
  },
  {
   "cell_type": "markdown",
   "metadata": {},
   "source": [
    "### Conclusion"
   ]
  },
  {
   "cell_type": "code",
   "execution_count": 300,
   "metadata": {},
   "outputs": [
    {
     "name": "stdout",
     "output_type": "stream",
     "text": [
      "Insufficient evidence to reject null hypothesis at 5.0 % level of significance.\n"
     ]
    }
   ],
   "source": [
    "if (z_o < critical_values[0] and z_o > critical_values[1]) : \n",
    "    print(f'Sufficient evidence to reject null hypothesis at {alpha*100} % level of significance.')\n",
    "else:\n",
    "    print(f'Insufficient evidence to reject null hypothesis at {alpha*100} % level of significance.')"
   ]
  },
  {
   "attachments": {},
   "cell_type": "markdown",
   "metadata": {},
   "source": [
    "## Part (e)"
   ]
  },
  {
   "cell_type": "markdown",
   "metadata": {},
   "source": [
    "1. Claim [NOT GIVEN]\n",
    "2. Parameter of interest is: **𝜇**\n",
    "3. Hypotheses:\n",
    "\n",
    "    H<sub>0</sub>: 𝜇 = 15\n",
    "    \n",
    "    H<sub>1</sub>: 𝜇 ≠ 15\n",
    "4. Level of Significance is __𝛼__ = 0.10"
   ]
  },
  {
   "cell_type": "markdown",
   "metadata": {},
   "source": [
    "### Test Statistic"
   ]
  },
  {
   "cell_type": "code",
   "execution_count": 301,
   "metadata": {},
   "outputs": [
    {
     "name": "stdout",
     "output_type": "stream",
     "text": [
      "Test Statistic :  1.873\n"
     ]
    }
   ],
   "source": [
    "z_o = (15.6 - 15)/(4/39)**0.5\n",
    "print('Test Statistic : ', round(z_o,3))"
   ]
  },
  {
   "cell_type": "markdown",
   "metadata": {},
   "source": [
    "### Critical Value"
   ]
  },
  {
   "cell_type": "code",
   "execution_count": 302,
   "metadata": {},
   "outputs": [
    {
     "name": "stdout",
     "output_type": "stream",
     "text": [
      "Critical Values:  [-1.645, 1.645]\n",
      "Rejection Region: 1.645 < Z_o  OR Z_o < -1.645\n"
     ]
    }
   ],
   "source": [
    "alpha = 0.10\n",
    "critical_values = [round(norm.ppf(alpha/2),3), round(norm.ppf(1-alpha/2),3)]\n",
    "print('Critical Values: ', critical_values)\n",
    "print(f\"Rejection Region: {round(critical_values[1],3)} < Z_o  OR Z_o < {round(critical_values[0],3)}\")"
   ]
  },
  {
   "cell_type": "markdown",
   "metadata": {},
   "source": [
    "### Conclusion"
   ]
  },
  {
   "cell_type": "code",
   "execution_count": 305,
   "metadata": {},
   "outputs": [
    {
     "name": "stdout",
     "output_type": "stream",
     "text": [
      "Sufficient evidence to reject null hypothesis at 10.0 % level of significance.\n"
     ]
    }
   ],
   "source": [
    "if (z_o < critical_values[0] or z_o > critical_values[1]) : \n",
    "    print(f'Sufficient evidence to reject null hypothesis at {alpha*100} % level of significance.')\n",
    "else:\n",
    "    print(f'Insufficient evidence to reject null hypothesis at {alpha*100} % level of significance.')"
   ]
  },
  {
   "attachments": {},
   "cell_type": "markdown",
   "metadata": {},
   "source": [
    "## Part (f)\n",
    "| Part | Consensus |\n",
    "|:---:|:---:|\n",
    "| A | ✔ |\n",
    "| B | ✔ |\n",
    "| C | ✔ |\n",
    "| D | ✔ |\n",
    "| E | ✔ |"
   ]
  },
  {
   "attachments": {},
   "cell_type": "markdown",
   "metadata": {},
   "source": [
    "# Question 3"
   ]
  },
  {
   "attachments": {},
   "cell_type": "markdown",
   "metadata": {},
   "source": [
    "## Part (a)"
   ]
  },
  {
   "attachments": {},
   "cell_type": "markdown",
   "metadata": {},
   "source": [
    "assumption: 𝑋 is a random variable that follows a normal distribution with unknown mean and unknown variance"
   ]
  },
  {
   "attachments": {},
   "cell_type": "markdown",
   "metadata": {},
   "source": [
    "#### Null Hypothesis\n",
    "\n",
    "        Adults sleep on average at least 7 hours each night.\n",
    "#### Alternative Hypothesis\n",
    "\n",
    "        Adults sleep less than 7 hours each night."
   ]
  },
  {
   "attachments": {},
   "cell_type": "markdown",
   "metadata": {},
   "source": [
    "## Part (b)"
   ]
  },
  {
   "cell_type": "code",
   "execution_count": 353,
   "metadata": {},
   "outputs": [],
   "source": [
    "import pandas as pd\n",
    "df_sleep = pd.read_csv('sleep.csv')"
   ]
  },
  {
   "cell_type": "code",
   "execution_count": 354,
   "metadata": {},
   "outputs": [
    {
     "name": "stdout",
     "output_type": "stream",
     "text": [
      "Test Statistic :  -0.42\n"
     ]
    }
   ],
   "source": [
    "z_o = (df_sleep.Hours.mean() - 7)/(df_sleep.Hours.std()/(df_sleep.Hours.count()**0.5))\n",
    "print('Test Statistic : ', round(z_o,3))"
   ]
  },
  {
   "attachments": {},
   "cell_type": "markdown",
   "metadata": {},
   "source": [
    "## Part (c)"
   ]
  },
  {
   "cell_type": "code",
   "execution_count": 355,
   "metadata": {},
   "outputs": [
    {
     "name": "stdout",
     "output_type": "stream",
     "text": [
      "P(Z > Z_o) =  0.6626298499358609\n",
      "Rejection Region: p < 0.05\n"
     ]
    }
   ],
   "source": [
    "p = 1 - norm.cdf(z_o)\n",
    "print('P(Z > Z_o) = ', p)\n",
    "print(\"Rejection Region: p < 0.05\")"
   ]
  },
  {
   "attachments": {},
   "cell_type": "markdown",
   "metadata": {},
   "source": [
    "## Part (d)\n",
    "\n",
    "There's insufficient evidence to reject the null hypothesis i.e it cannot be established from the given data whether adults sleep less than 7 hours/night/"
   ]
  },
  {
   "attachments": {},
   "cell_type": "markdown",
   "metadata": {},
   "source": [
    "# Question 4"
   ]
  },
  {
   "attachments": {},
   "cell_type": "markdown",
   "metadata": {},
   "source": [
    "## Part(a)"
   ]
  },
  {
   "cell_type": "code",
   "execution_count": 258,
   "metadata": {},
   "outputs": [
    {
     "data": {
      "text/html": [
       "<div>\n",
       "<style scoped>\n",
       "    .dataframe tbody tr th:only-of-type {\n",
       "        vertical-align: middle;\n",
       "    }\n",
       "\n",
       "    .dataframe tbody tr th {\n",
       "        vertical-align: top;\n",
       "    }\n",
       "\n",
       "    .dataframe thead th {\n",
       "        text-align: right;\n",
       "    }\n",
       "</style>\n",
       "<table border=\"1\" class=\"dataframe\">\n",
       "  <thead>\n",
       "    <tr style=\"text-align: right;\">\n",
       "      <th></th>\n",
       "      <th>Sample #</th>\n",
       "      <th>Premium_USD</th>\n",
       "    </tr>\n",
       "  </thead>\n",
       "  <tbody>\n",
       "    <tr>\n",
       "      <th>0</th>\n",
       "      <td>699</td>\n",
       "      <td>933.81</td>\n",
       "    </tr>\n",
       "    <tr>\n",
       "      <th>1</th>\n",
       "      <td>720</td>\n",
       "      <td>487.54</td>\n",
       "    </tr>\n",
       "    <tr>\n",
       "      <th>2</th>\n",
       "      <td>2345</td>\n",
       "      <td>590.05</td>\n",
       "    </tr>\n",
       "    <tr>\n",
       "      <th>3</th>\n",
       "      <td>2507</td>\n",
       "      <td>280.08</td>\n",
       "    </tr>\n",
       "    <tr>\n",
       "      <th>4</th>\n",
       "      <td>5302</td>\n",
       "      <td>389.46</td>\n",
       "    </tr>\n",
       "  </tbody>\n",
       "</table>\n",
       "</div>"
      ],
      "text/plain": [
       "   Sample #  Premium_USD\n",
       "0       699       933.81\n",
       "1       720       487.54\n",
       "2      2345       590.05\n",
       "3      2507       280.08\n",
       "4      5302       389.46"
      ]
     },
     "execution_count": 258,
     "metadata": {},
     "output_type": "execute_result"
    }
   ],
   "source": [
    "df_insurance = pd.read_csv('insurance_car.csv')\n",
    "df_insurance.head()"
   ]
  },
  {
   "cell_type": "code",
   "execution_count": 259,
   "metadata": {},
   "outputs": [
    {
     "data": {
      "text/html": [
       "<div>\n",
       "<style scoped>\n",
       "    .dataframe tbody tr th:only-of-type {\n",
       "        vertical-align: middle;\n",
       "    }\n",
       "\n",
       "    .dataframe tbody tr th {\n",
       "        vertical-align: top;\n",
       "    }\n",
       "\n",
       "    .dataframe thead th {\n",
       "        text-align: right;\n",
       "    }\n",
       "</style>\n",
       "<table border=\"1\" class=\"dataframe\">\n",
       "  <thead>\n",
       "    <tr style=\"text-align: right;\">\n",
       "      <th></th>\n",
       "      <th>Sample #</th>\n",
       "      <th>Premium_USD</th>\n",
       "      <th>Normalized_Premiums</th>\n",
       "    </tr>\n",
       "  </thead>\n",
       "  <tbody>\n",
       "    <tr>\n",
       "      <th>0</th>\n",
       "      <td>699</td>\n",
       "      <td>933.81</td>\n",
       "      <td>1.446100</td>\n",
       "    </tr>\n",
       "    <tr>\n",
       "      <th>1</th>\n",
       "      <td>720</td>\n",
       "      <td>487.54</td>\n",
       "      <td>-0.602110</td>\n",
       "    </tr>\n",
       "    <tr>\n",
       "      <th>2</th>\n",
       "      <td>2345</td>\n",
       "      <td>590.05</td>\n",
       "      <td>-0.131628</td>\n",
       "    </tr>\n",
       "    <tr>\n",
       "      <th>3</th>\n",
       "      <td>2507</td>\n",
       "      <td>280.08</td>\n",
       "      <td>-1.554272</td>\n",
       "    </tr>\n",
       "    <tr>\n",
       "      <th>4</th>\n",
       "      <td>5302</td>\n",
       "      <td>389.46</td>\n",
       "      <td>-1.052260</td>\n",
       "    </tr>\n",
       "  </tbody>\n",
       "</table>\n",
       "</div>"
      ],
      "text/plain": [
       "   Sample #  Premium_USD  Normalized_Premiums\n",
       "0       699       933.81             1.446100\n",
       "1       720       487.54            -0.602110\n",
       "2      2345       590.05            -0.131628\n",
       "3      2507       280.08            -1.554272\n",
       "4      5302       389.46            -1.052260"
      ]
     },
     "execution_count": 259,
     "metadata": {},
     "output_type": "execute_result"
    }
   ],
   "source": [
    "df_insurance[\"Normalized_Premiums\"] = (df_insurance.Premium_USD - df_insurance.Premium_USD.mean())/df_insurance.Premium_USD.std()\n",
    "df_insurance.head()"
   ]
  },
  {
   "cell_type": "code",
   "execution_count": 318,
   "metadata": {},
   "outputs": [
    {
     "data": {
      "text/plain": [
       "<AxesSubplot:ylabel='Density'>"
      ]
     },
     "execution_count": 318,
     "metadata": {},
     "output_type": "execute_result"
    },
    {
     "data": {
      "image/png": "[encoded data removed]",
      "text/plain": [
       "<Figure size 640x480 with 1 Axes>"
      ]
     },
     "metadata": {},
     "output_type": "display_data"
    }
   ],
   "source": [
    "import numpy as np\n",
    "df_insurance.sort_values(by='Normalized_Premiums', inplace=True)\n",
    "theoratical = np.sort(np.random.normal(size=df_insurance.Premium_USD.size))\n",
    "df_insurance['Theoratical_Premiums'] = theoratical\n",
    "df_insurance.plot(kind='kde', y=[\"Normalized_Premiums\", \"Theoratical_Premiums\"])"
   ]
  },
  {
   "attachments": {},
   "cell_type": "markdown",
   "metadata": {},
   "source": [
    "Premiums can be theorized to be an approximate normal distribution"
   ]
  },
  {
   "attachments": {},
   "cell_type": "markdown",
   "metadata": {},
   "source": [
    "## Part (b)"
   ]
  },
  {
   "attachments": {},
   "cell_type": "markdown",
   "metadata": {},
   "source": [
    "| Hypothesis | |\n",
    "|:---:|:---:|\n",
    "|Null | Avg is 713|\n",
    "|Alternative | Avg is not 713|"
   ]
  },
  {
   "cell_type": "markdown",
   "metadata": {},
   "source": [
    "### Test Statistic"
   ]
  },
  {
   "cell_type": "code",
   "execution_count": 326,
   "metadata": {},
   "outputs": [
    {
     "name": "stdout",
     "output_type": "stream",
     "text": [
      "Test Statistic :  -2.523\n"
     ]
    }
   ],
   "source": [
    "z_o = (df_insurance.Premium_USD.mean() - 713)/(df_insurance.Premium_USD.std()/(df_insurance.Premium_USD.count()**0.5))\n",
    "print('Test Statistic : ', round(z_o,3))"
   ]
  },
  {
   "attachments": {},
   "cell_type": "markdown",
   "metadata": {},
   "source": [
    "### P Value"
   ]
  },
  {
   "cell_type": "code",
   "execution_count": 328,
   "metadata": {},
   "outputs": [
    {
     "name": "stdout",
     "output_type": "stream",
     "text": [
      "P(Z ≠ Z_o) =  0.011640606477915715\n"
     ]
    }
   ],
   "source": [
    "p = 2*(norm.cdf(z_o))\n",
    "print('P(Z ≠ Z_o) = ', p)"
   ]
  },
  {
   "cell_type": "markdown",
   "metadata": {},
   "source": [
    "### Conclusion"
   ]
  },
  {
   "cell_type": "code",
   "execution_count": 329,
   "metadata": {},
   "outputs": [
    {
     "name": "stdout",
     "output_type": "stream",
     "text": [
      "Sufficient evidence to reject null hypothesis at 5.0 % level of significance.\n"
     ]
    }
   ],
   "source": [
    "alpha = 0.05\n",
    "if (p < alpha) : \n",
    "    print(f'Sufficient evidence to reject null hypothesis at {alpha*100} % level of significance.')\n",
    "else:\n",
    "    print(f'Insufficient evidence to reject null hypothesis at {alpha*100} % level of significance.')"
   ]
  },
  {
   "attachments": {},
   "cell_type": "markdown",
   "metadata": {},
   "source": [
    "# Question 5"
   ]
  },
  {
   "attachments": {},
   "cell_type": "markdown",
   "metadata": {},
   "source": [
    "Unknown mean & variance"
   ]
  },
  {
   "attachments": {},
   "cell_type": "markdown",
   "metadata": {},
   "source": [
    "## Part (a)"
   ]
  },
  {
   "attachments": {},
   "cell_type": "markdown",
   "metadata": {},
   "source": [
    "| Hypothesis | |\n",
    "|:---:|:---:|\n",
    "| Null | More than 50% accidents are partially caused due to unsafe working conditions |\n",
    "| Alternative | 50% or less accidents are partially caused due to unsafe working conditions |"
   ]
  },
  {
   "cell_type": "markdown",
   "metadata": {},
   "source": [
    "### Test Statistic"
   ]
  },
  {
   "cell_type": "code",
   "execution_count": 4,
   "metadata": {},
   "outputs": [
    {
     "name": "stdout",
     "output_type": "stream",
     "text": [
      "Test Statistic :  3.348\n"
     ]
    }
   ],
   "source": [
    "X = 341\n",
    "n = 600\n",
    "h_o = 0.5\n",
    "z_o = (X - n*h_o)/(n*h_o*(1-h_o))**0.5\n",
    "print('Test Statistic : ', round(z_o,3))"
   ]
  },
  {
   "cell_type": "markdown",
   "metadata": {},
   "source": [
    "### P Value"
   ]
  },
  {
   "cell_type": "code",
   "execution_count": 341,
   "metadata": {},
   "outputs": [
    {
     "name": "stdout",
     "output_type": "stream",
     "text": [
      "P(Z < Z_o) =  0.99959\n",
      "Rejection Region: p < 0.01\n"
     ]
    }
   ],
   "source": [
    "p = norm.cdf(z_o)\n",
    "print('P(Z < Z_o) = ', round(p, 5))\n",
    "print('Rejection Region: p < 0.01')"
   ]
  },
  {
   "cell_type": "markdown",
   "metadata": {},
   "source": [
    "### Conclusion"
   ]
  },
  {
   "cell_type": "code",
   "execution_count": 342,
   "metadata": {},
   "outputs": [
    {
     "name": "stdout",
     "output_type": "stream",
     "text": [
      "Insufficient evidence to reject null hypothesis at 1.0 % level of significance.\n"
     ]
    }
   ],
   "source": [
    "alpha = 0.01\n",
    "if (p < alpha) : \n",
    "    print(f'Sufficient evidence to reject null hypothesis at {alpha*100} % level of significance.')\n",
    "else:\n",
    "    print(f'Insufficient evidence to reject null hypothesis at {alpha*100} % level of significance.')"
   ]
  },
  {
   "attachments": {},
   "cell_type": "markdown",
   "metadata": {},
   "source": [
    "It can be concluded, at the 1% level of significance, that more than half the accidents are caused at least partially due to unsafe working conditions."
   ]
  },
  {
   "attachments": {},
   "cell_type": "markdown",
   "metadata": {},
   "source": [
    "## Part (b)"
   ]
  },
  {
   "attachments": {},
   "cell_type": "markdown",
   "metadata": {},
   "source": [
    "Confidence interval: UPPER"
   ]
  },
  {
   "cell_type": "code",
   "execution_count": 3,
   "metadata": {},
   "outputs": [
    {
     "name": "stdout",
     "output_type": "stream",
     "text": [
      "Critical Value:  2.326\n"
     ]
    }
   ],
   "source": [
    "alpha = 0.01\n",
    "critical_value = norm.ppf(1-alpha)\n",
    "print('Critical Value: ', round(critical_value,3))\n",
    "# print(f\"Rejection Region: Z_o < {}\")"
   ]
  },
  {
   "cell_type": "code",
   "execution_count": 6,
   "metadata": {},
   "outputs": [
    {
     "data": {
      "text/plain": [
       "0.047"
      ]
     },
     "execution_count": 6,
     "metadata": {},
     "output_type": "execute_result"
    }
   ],
   "source": [
    "round(critical_value*((X/n)*(1-(X/n))/n)**0.5,3)"
   ]
  },
  {
   "attachments": {},
   "cell_type": "markdown",
   "metadata": {},
   "source": [
    "Since 0.047 < 0.5, the evidence suggests more than half the accidents actually happened partially due to unsafe working conditions (i.e null hyporhesis).\n",
    "\n",
    "Its the same as the conclusion in part (a)"
   ]
  },
  {
   "attachments": {},
   "cell_type": "markdown",
   "metadata": {},
   "source": [
    "# Question 6"
   ]
  },
  {
   "cell_type": "code",
   "execution_count": 215,
   "metadata": {},
   "outputs": [
    {
     "data": {
      "text/html": [
       "<div>\n",
       "<style scoped>\n",
       "    .dataframe tbody tr th:only-of-type {\n",
       "        vertical-align: middle;\n",
       "    }\n",
       "\n",
       "    .dataframe tbody tr th {\n",
       "        vertical-align: top;\n",
       "    }\n",
       "\n",
       "    .dataframe thead th {\n",
       "        text-align: right;\n",
       "    }\n",
       "</style>\n",
       "<table border=\"1\" class=\"dataframe\">\n",
       "  <thead>\n",
       "    <tr style=\"text-align: right;\">\n",
       "      <th></th>\n",
       "      <th>White</th>\n",
       "    </tr>\n",
       "  </thead>\n",
       "  <tbody>\n",
       "    <tr>\n",
       "      <th>0</th>\n",
       "      <td>26</td>\n",
       "    </tr>\n",
       "    <tr>\n",
       "      <th>1</th>\n",
       "      <td>25</td>\n",
       "    </tr>\n",
       "    <tr>\n",
       "      <th>2</th>\n",
       "      <td>27</td>\n",
       "    </tr>\n",
       "    <tr>\n",
       "      <th>3</th>\n",
       "      <td>25</td>\n",
       "    </tr>\n",
       "    <tr>\n",
       "      <th>4</th>\n",
       "      <td>26</td>\n",
       "    </tr>\n",
       "  </tbody>\n",
       "</table>\n",
       "</div>"
      ],
      "text/plain": [
       "   White\n",
       "0     26\n",
       "1     25\n",
       "2     27\n",
       "3     25\n",
       "4     26"
      ]
     },
     "execution_count": 215,
     "metadata": {},
     "output_type": "execute_result"
    }
   ],
   "source": [
    "df_paint = pd.read_csv('whitepaint.csv')\n",
    "df_paint.head()"
   ]
  },
  {
   "cell_type": "code",
   "execution_count": 221,
   "metadata": {},
   "outputs": [
    {
     "data": {
      "text/plain": [
       "1.224744871391589"
      ]
     },
     "execution_count": 221,
     "metadata": {},
     "output_type": "execute_result"
    }
   ],
   "source": [
    "variance_o = 1.5\n",
    "std_o = (variance_o)**0.5\n",
    "std_o"
   ]
  },
  {
   "attachments": {},
   "cell_type": "markdown",
   "metadata": {},
   "source": [
    "Parameter of interest: **variance (or std)** \n",
    "\n",
    "| Hypothesis | |\n",
    "|:---:|:---:|\n",
    "| Null | 𝜎_o <= 1.225 |\n",
    "| Alternative | 𝜎_o > 1.225 |"
   ]
  },
  {
   "cell_type": "markdown",
   "metadata": {},
   "source": [
    "### Test Statistic"
   ]
  },
  {
   "cell_type": "code",
   "execution_count": 220,
   "metadata": {},
   "outputs": [
    {
     "name": "stdout",
     "output_type": "stream",
     "text": [
      "Test Statistic :  24.81\n"
     ]
    }
   ],
   "source": [
    "z_o = ((df_paint.White.count()-1)*df_paint.White.std()*df_paint.White.std())/(std_o*std_o)\n",
    "print('Test Statistic : ', round(z_o,3))"
   ]
  },
  {
   "attachments": {},
   "cell_type": "markdown",
   "metadata": {},
   "source": [
    "### Critical Value"
   ]
  },
  {
   "cell_type": "code",
   "execution_count": 233,
   "metadata": {},
   "outputs": [
    {
     "name": "stdout",
     "output_type": "stream",
     "text": [
      "Critical Value:  22.362\n",
      "Rejection Region: 𝜎 > 22.362\n"
     ]
    }
   ],
   "source": [
    "from scipy.stats import chi2\n",
    "alpha = 0.05\n",
    "critical_value = chi2.ppf(1-alpha, df_paint.White.count()-1)\n",
    "print(\"Critical Value: \", round(critical_value,3))\n",
    "print(\"Rejection Region: 𝜎 >\", round(critical_value,3))"
   ]
  },
  {
   "cell_type": "markdown",
   "metadata": {},
   "source": [
    "### Conclusion"
   ]
  },
  {
   "cell_type": "code",
   "execution_count": 334,
   "metadata": {},
   "outputs": [
    {
     "name": "stdout",
     "output_type": "stream",
     "text": [
      "Sufficient evidence to reject null hypothesis at 1.0 % level of significance.\n"
     ]
    }
   ],
   "source": [
    "if (z_o > critical_value) : \n",
    "    print(f'Sufficient evidence to reject null hypothesis at {alpha*100} % level of significance.')\n",
    "else:\n",
    "    print(f'Insufficient evidence to reject null hypothesis at {alpha*100} % level of significance.')"
   ]
  }
 ],
 "metadata": {
  "kernelspec": {
   "display_name": "stats614",
   "language": "python",
   "name": "python3"
  },
  "language_info": {
   "codemirror_mode": {
    "name": "ipython",
    "version": 3
   },
   "file_extension": ".py",
   "mimetype": "text/x-python",
   "name": "python",
   "nbconvert_exporter": "python",
   "pygments_lexer": "ipython3",
   "version": "3.7.7"
  },
  "orig_nbformat": 4
 },
 "nbformat": 4,
 "nbformat_minor": 2
}
