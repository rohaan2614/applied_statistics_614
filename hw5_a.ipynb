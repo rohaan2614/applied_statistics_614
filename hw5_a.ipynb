{
 "cells": [
  {
   "attachments": {},
   "cell_type": "markdown",
   "metadata": {},
   "source": [
    "### Code Logistics"
   ]
  },
  {
   "cell_type": "code",
   "execution_count": 1,
   "metadata": {},
   "outputs": [],
   "source": [
    "import pandas as pd\n",
    "import seaborn as sns\n",
    "import numpy as np"
   ]
  },
  {
   "cell_type": "code",
   "execution_count": 2,
   "metadata": {},
   "outputs": [
    {
     "data": {
      "text/html": [
       "<div>\n",
       "<style scoped>\n",
       "    .dataframe tbody tr th:only-of-type {\n",
       "        vertical-align: middle;\n",
       "    }\n",
       "\n",
       "    .dataframe tbody tr th {\n",
       "        vertical-align: top;\n",
       "    }\n",
       "\n",
       "    .dataframe thead th {\n",
       "        text-align: right;\n",
       "    }\n",
       "</style>\n",
       "<table border=\"1\" class=\"dataframe\">\n",
       "  <thead>\n",
       "    <tr style=\"text-align: right;\">\n",
       "      <th></th>\n",
       "      <th>Batch</th>\n",
       "      <th>Rating</th>\n",
       "    </tr>\n",
       "  </thead>\n",
       "  <tbody>\n",
       "    <tr>\n",
       "      <th>0</th>\n",
       "      <td>1</td>\n",
       "      <td>7.200000</td>\n",
       "    </tr>\n",
       "    <tr>\n",
       "      <th>1</th>\n",
       "      <td>2</td>\n",
       "      <td>7.217242</td>\n",
       "    </tr>\n",
       "    <tr>\n",
       "      <th>2</th>\n",
       "      <td>3</td>\n",
       "      <td>7.238593</td>\n",
       "    </tr>\n",
       "    <tr>\n",
       "      <th>3</th>\n",
       "      <td>4</td>\n",
       "      <td>7.260526</td>\n",
       "    </tr>\n",
       "    <tr>\n",
       "      <th>4</th>\n",
       "      <td>5</td>\n",
       "      <td>7.283882</td>\n",
       "    </tr>\n",
       "  </tbody>\n",
       "</table>\n",
       "</div>"
      ],
      "text/plain": [
       "   Batch    Rating\n",
       "0      1  7.200000\n",
       "1      2  7.217242\n",
       "2      3  7.238593\n",
       "3      4  7.260526\n",
       "4      5  7.283882"
      ]
     },
     "execution_count": 2,
     "metadata": {},
     "output_type": "execute_result"
    }
   ],
   "source": [
    "df = pd.read_csv('candy1.csv')\n",
    "df.head()"
   ]
  },
  {
   "attachments": {},
   "cell_type": "markdown",
   "metadata": {},
   "source": [
    "### Part (a)"
   ]
  },
  {
   "cell_type": "code",
   "execution_count": 3,
   "metadata": {},
   "outputs": [],
   "source": [
    "df['normalized_rating'] = df.Rating.apply(lambda x : (x - df.Rating.mean())/df.Rating.std())"
   ]
  },
  {
   "cell_type": "code",
   "execution_count": 4,
   "metadata": {},
   "outputs": [
    {
     "data": {
      "text/html": [
       "<div>\n",
       "<style scoped>\n",
       "    .dataframe tbody tr th:only-of-type {\n",
       "        vertical-align: middle;\n",
       "    }\n",
       "\n",
       "    .dataframe tbody tr th {\n",
       "        vertical-align: top;\n",
       "    }\n",
       "\n",
       "    .dataframe thead th {\n",
       "        text-align: right;\n",
       "    }\n",
       "</style>\n",
       "<table border=\"1\" class=\"dataframe\">\n",
       "  <thead>\n",
       "    <tr style=\"text-align: right;\">\n",
       "      <th></th>\n",
       "      <th>Batch</th>\n",
       "      <th>Rating</th>\n",
       "      <th>normalized_rating</th>\n",
       "    </tr>\n",
       "  </thead>\n",
       "  <tbody>\n",
       "    <tr>\n",
       "      <th>0</th>\n",
       "      <td>1</td>\n",
       "      <td>7.200000</td>\n",
       "      <td>-0.951774</td>\n",
       "    </tr>\n",
       "    <tr>\n",
       "      <th>1</th>\n",
       "      <td>2</td>\n",
       "      <td>7.217242</td>\n",
       "      <td>-0.924676</td>\n",
       "    </tr>\n",
       "    <tr>\n",
       "      <th>2</th>\n",
       "      <td>3</td>\n",
       "      <td>7.238593</td>\n",
       "      <td>-0.891121</td>\n",
       "    </tr>\n",
       "    <tr>\n",
       "      <th>3</th>\n",
       "      <td>4</td>\n",
       "      <td>7.260526</td>\n",
       "      <td>-0.856651</td>\n",
       "    </tr>\n",
       "    <tr>\n",
       "      <th>4</th>\n",
       "      <td>5</td>\n",
       "      <td>7.283882</td>\n",
       "      <td>-0.819944</td>\n",
       "    </tr>\n",
       "  </tbody>\n",
       "</table>\n",
       "</div>"
      ],
      "text/plain": [
       "   Batch    Rating  normalized_rating\n",
       "0      1  7.200000          -0.951774\n",
       "1      2  7.217242          -0.924676\n",
       "2      3  7.238593          -0.891121\n",
       "3      4  7.260526          -0.856651\n",
       "4      5  7.283882          -0.819944"
      ]
     },
     "execution_count": 4,
     "metadata": {},
     "output_type": "execute_result"
    }
   ],
   "source": [
    "df.sort_values(by=['normalized_rating'])\n",
    "df.head()"
   ]
  },
  {
   "cell_type": "code",
   "execution_count": 5,
   "metadata": {},
   "outputs": [
    {
     "data": {
      "text/plain": [
       "array([6.2390709 , 6.29144387, 6.64624569, 6.77218687, 6.81858424,\n",
       "       6.81910771, 6.9137966 , 6.98548334, 7.07237754, 7.09210555,\n",
       "       7.10680683, 7.13497812, 7.20617137, 7.26131963, 7.32170201,\n",
       "       7.34695287, 7.35563664, 7.37002746, 7.37588006, 7.37728906,\n",
       "       7.39719453, 7.47069011, 7.50753877, 7.52491706, 7.54551996,\n",
       "       7.57405833, 7.5874533 , 7.61983156, 7.62226331, 7.62304882,\n",
       "       7.646413  , 7.67628   , 7.69232144, 7.69265225, 7.6975355 ,\n",
       "       7.72647652, 7.74721275, 7.75975015, 7.76452135, 7.79214904,\n",
       "       7.8197553 , 7.83146372, 7.8716311 , 7.89959085, 7.90204652,\n",
       "       7.90896161, 7.92068536, 7.92304362, 7.9463156 , 7.96169324,\n",
       "       7.96639725, 7.97794043, 7.98930087, 8.01360846, 8.02361355,\n",
       "       8.04132681, 8.08671185, 8.11127783, 8.12889171, 8.15789681,\n",
       "       8.16848689, 8.16888964, 8.17367915, 8.18618097, 8.19697067,\n",
       "       8.19874844, 8.20216191, 8.21971733, 8.23474306, 8.23713297,\n",
       "       8.25011812, 8.2776515 , 8.28548294, 8.32591884, 8.33202335,\n",
       "       8.33553103, 8.36764847, 8.37283344, 8.39025563, 8.39475427,\n",
       "       8.42390398, 8.427085  , 8.43529029, 8.45265221, 8.52238434,\n",
       "       8.53517837, 8.5919894 , 8.60432647, 8.63229086, 8.68718692,\n",
       "       8.77758342, 8.78336573, 8.80946919, 8.81664093, 8.95186345,\n",
       "       8.96535265, 9.21567816, 9.21891161, 9.46256412, 9.67234231])"
      ]
     },
     "execution_count": 5,
     "metadata": {},
     "output_type": "execute_result"
    }
   ],
   "source": [
    "theoratical_quantiles = np.random.normal(size=100, loc=df.Rating.mean(), scale=df.Rating.std())\n",
    "theoratical_quantiles.sort()\n",
    "theoratical_quantiles"
   ]
  },
  {
   "cell_type": "code",
   "execution_count": 6,
   "metadata": {},
   "outputs": [
    {
     "data": {
      "text/plain": [
       "<AxesSubplot:ylabel='Density'>"
      ]
     },
     "execution_count": 6,
     "metadata": {},
     "output_type": "execute_result"
    },
    {
     "data": {
      "image/png": "[encoded data removed]",
      "text/plain": [
       "<Figure size 640x480 with 1 Axes>"
      ]
     },
     "metadata": {},
     "output_type": "display_data"
    }
   ],
   "source": [
    "df_quantiles = pd.DataFrame({\n",
    "    'sample' : df.Rating,\n",
    "    'theoratical' : theoratical_quantiles\n",
    "})\n",
    "df_quantiles.plot(kind='kde')"
   ]
  },
  {
   "attachments": {},
   "cell_type": "markdown",
   "metadata": {},
   "source": [
    "#### Distribution is close to normal"
   ]
  }
 ],
 "metadata": {
  "kernelspec": {
   "display_name": "stats614",
   "language": "python",
   "name": "python3"
  },
  "language_info": {
   "codemirror_mode": {
    "name": "ipython",
    "version": 3
   },
   "file_extension": ".py",
   "mimetype": "text/x-python",
   "name": "python",
   "nbconvert_exporter": "python",
   "pygments_lexer": "ipython3",
   "version": "3.7.7"
  },
  "orig_nbformat": 4,
  "vscode": {
   "interpreter": {
    "hash": "85418a1e6389e34790ddcbb25115015231c0136c1575c08c8875bef9d00c430b"
   }
  }
 },
 "nbformat": 4,
 "nbformat_minor": 2
}
