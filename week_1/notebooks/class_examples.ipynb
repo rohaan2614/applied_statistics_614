{
 "cells": [
  {
   "attachments": {},
   "cell_type": "markdown",
   "metadata": {},
   "source": [
    "#### Numerical Summary"
   ]
  },
  {
   "cell_type": "code",
   "execution_count": 18,
   "metadata": {},
   "outputs": [
    {
     "name": "stdout",
     "output_type": "stream",
     "text": [
      "Min: 5.9\n",
      "1st Qu: 7.0\n",
      "Median: 7.7\n",
      "Mean: 8.14074074074074\n",
      "3rd Qu: 8.85\n",
      "Max: 11.8\n",
      "STD: 1.659531736377941\n",
      "VAR: 2.754045584045584\n",
      "IQR: 1.8499999999999996\n"
     ]
    }
   ],
   "source": [
    "import pandas as pd\n",
    "import numpy as np\n",
    "import seaborn as sns\n",
    "\n",
    "\n",
    "data = np.array((5.9, 7.2, 7.3, 6.3, 8.1, 6.8, 7, 7.6, 6.8, 6.5, 7, 6.3, 7.9, 9,\n",
    "        8.2, 8.7, 7.8, 9.7, 7.4, 7.7, 9.7, 7.8, 7.7, 11.6, 11.3, 11.8, 10.7))\n",
    "\n",
    "df = pd.DataFrame(data)\n",
    "df_stats = df.describe()\n",
    "\n",
    "print(f'Min: {df_stats.loc[\"min\"][0]}')\n",
    "print(f'1st Qu: {df_stats.loc[\"25%\"][0]}')\n",
    "print(f'Median: {df.median()[0]}')\n",
    "print(f'Mean: {df_stats.loc[\"mean\"][0]}')\n",
    "print(f'3rd Qu: {df_stats.loc[\"75%\"][0]}')\n",
    "print(f'Max: {df_stats.loc[\"max\"][0]}')\n",
    "print(f'STD: {df_stats.loc[\"std\"][0]}')\n",
    "print(f'VAR: {df.var()[0]}')\n",
    "print(f'IQR: {df_stats.loc[\"75%\"][0] - df_stats.loc[\"25%\"][0]}')"
   ]
  },
  {
   "cell_type": "code",
   "execution_count": 19,
   "metadata": {},
   "outputs": [
    {
     "data": {
      "text/plain": [
       "<AxesSubplot: >"
      ]
     },
     "execution_count": 19,
     "metadata": {},
     "output_type": "execute_result"
    },
    {
     "data": {
      "image/png": "[encoded data removed]",
      "text/plain": [
       "<Figure size 640x480 with 1 Axes>"
      ]
     },
     "metadata": {},
     "output_type": "display_data"
    }
   ],
   "source": [
    "sns.boxplot()"
   ]
  }
 ],
 "metadata": {
  "kernelspec": {
   "display_name": "dsci_633",
   "language": "python",
   "name": "python3"
  },
  "language_info": {
   "codemirror_mode": {
    "name": "ipython",
    "version": 3
   },
   "file_extension": ".py",
   "mimetype": "text/x-python",
   "name": "python",
   "nbconvert_exporter": "python",
   "pygments_lexer": "ipython3",
   "version": "3.8.13"
  },
  "orig_nbformat": 4,
  "vscode": {
   "interpreter": {
    "hash": "12372e41f067e9ec7630278bb7e01e09d44cf781077ab898aefbe37c582d4959"
   }
  }
 },
 "nbformat": 4,
 "nbformat_minor": 2
}
