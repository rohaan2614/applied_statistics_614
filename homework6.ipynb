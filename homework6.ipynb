{
 "cells": [
  {
   "cell_type": "code",
   "execution_count": 5,
   "metadata": {},
   "outputs": [],
   "source": [
    "def q_1(CI, n, x_bar = 60, std=3):\n",
    "    if CI > 1:\n",
    "        CI = CI/100\n",
    "    if CI == 0.95:\n",
    "        z = 1.96\n",
    "    elif CI == 0.82:\n",
    "        z = 1.341\n",
    "    elif CI == 0.99:\n",
    "        z = 2.576\n",
    "    else:\n",
    "        raise \"Unknown CI\"\n",
    "    \n",
    "    lower_bound = x_bar - z*std/n**0.5\n",
    "    upper_bound = x_bar + z*std/n**0.5\n",
    "\n",
    "    return lower_bound, upper_bound"
   ]
  },
  {
   "cell_type": "code",
   "execution_count": 13,
   "metadata": {},
   "outputs": [
    {
     "name": "stdout",
     "output_type": "stream",
     "text": [
      "Part 1a: 58.824 ≤ µ ≤ 61.176\n",
      "Part 1b: 59.16844242532462 ≤ µ ≤ 60.83155757467538\n",
      "Part 1c: 59.412 ≤ µ ≤ 60.588\n",
      "Part 1d: 59.5977 ≤ µ ≤ 60.4023\n",
      "Part 1e: 59.2272 ≤ µ ≤ 60.7728\n"
     ]
    }
   ],
   "source": [
    "part_1_a = q_1(95, 25)\n",
    "print(f'Part 1a: {part_1_a[0]} ≤ µ ≤ {part_1_a[1]}')\n",
    "part_1_b = q_1(95, 50)\n",
    "print(f'Part 1b: {part_1_b[0]} ≤ µ ≤ {part_1_b[1]}')\n",
    "part_1_c = q_1(95, 100)\n",
    "print(f'Part 1c: {part_1_c[0]} ≤ µ ≤ {part_1_c[1]}')\n",
    "part_1_d = q_1(82, 100)\n",
    "print(f'Part 1d: {part_1_d[0]} ≤ µ ≤ {part_1_d[1]}')\n",
    "part_1_e = q_1(99, 100)\n",
    "print(f'Part 1e: {part_1_e[0]} ≤ µ ≤ {part_1_e[1]}')\n"
   ]
  }
 ],
 "metadata": {
  "kernelspec": {
   "display_name": "Python 3",
   "language": "python",
   "name": "python3"
  },
  "language_info": {
   "codemirror_mode": {
    "name": "ipython",
    "version": 3
   },
   "file_extension": ".py",
   "mimetype": "text/x-python",
   "name": "python",
   "nbconvert_exporter": "python",
   "pygments_lexer": "ipython3",
   "version": "3.9.6"
  },
  "orig_nbformat": 4,
  "vscode": {
   "interpreter": {
    "hash": "31f2aee4e71d21fbe5cf8b01ff0e069b9275f58929596ceb00d14d90e3e16cd6"
   }
  }
 },
 "nbformat": 4,
 "nbformat_minor": 2
}
