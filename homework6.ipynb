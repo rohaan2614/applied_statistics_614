{
 "cells": [
  {
   "attachments": {},
   "cell_type": "markdown",
   "metadata": {},
   "source": [
    "### Question 1"
   ]
  },
  {
   "cell_type": "code",
   "execution_count": 1,
   "metadata": {},
   "outputs": [],
   "source": [
    "def q_1(CI, n, x_bar = 60, std=3):\n",
    "    if CI > 1:\n",
    "        CI = CI/100\n",
    "    if CI == 0.95:\n",
    "        z = 1.96\n",
    "    elif CI == 0.82:\n",
    "        z = 1.341\n",
    "    elif CI == 0.99:\n",
    "        z = 2.576\n",
    "    else:\n",
    "        raise \"Unknown CI\"\n",
    "    \n",
    "    lower_bound = x_bar - z*std/n**0.5\n",
    "    upper_bound = x_bar + z*std/n**0.5\n",
    "\n",
    "    return lower_bound, upper_bound"
   ]
  },
  {
   "cell_type": "code",
   "execution_count": 2,
   "metadata": {},
   "outputs": [
    {
     "name": "stdout",
     "output_type": "stream",
     "text": [
      "Parts 1a-1e are being calculated by the function named q_1()\n",
      "Part 1a: 58.824 ≤ µ ≤ 61.176\n",
      "Part 1b: 59.16844242532462 ≤ µ ≤ 60.83155757467538\n",
      "Part 1c: 59.412 ≤ µ ≤ 60.588\n",
      "Part 1d: 59.5977 ≤ µ ≤ 60.4023\n",
      "Part 1e: 59.2272 ≤ µ ≤ 60.7728\n",
      "Part 1f: ???\n",
      "Part 1g: ???\n"
     ]
    }
   ],
   "source": [
    "print(\"Parts 1a-1e are being calculated by the function named q_1()\")\n",
    "\n",
    "part_1_a = q_1(95, 25)\n",
    "print(f'Part 1a: {part_1_a[0]} ≤ µ ≤ {part_1_a[1]}')\n",
    "part_1_b = q_1(95, 50)\n",
    "print(f'Part 1b: {part_1_b[0]} ≤ µ ≤ {part_1_b[1]}')\n",
    "part_1_c = q_1(95, 100)\n",
    "print(f'Part 1c: {part_1_c[0]} ≤ µ ≤ {part_1_c[1]}')\n",
    "part_1_d = q_1(82, 100)\n",
    "print(f'Part 1d: {part_1_d[0]} ≤ µ ≤ {part_1_d[1]}')\n",
    "part_1_e = q_1(99, 100)\n",
    "print(f'Part 1e: {part_1_e[0]} ≤ µ ≤ {part_1_e[1]}')\n",
    "\n",
    "\n",
    "print(\"Part 1f: Increasing the sample size decreases the width of CI.\")\n",
    "print(\"Part 1g: This will be a linear relation\")"
   ]
  },
  {
   "attachments": {},
   "cell_type": "markdown",
   "metadata": {},
   "source": [
    "### Question 2"
   ]
  },
  {
   "cell_type": "code",
   "execution_count": 3,
   "metadata": {},
   "outputs": [
    {
     "name": "stdout",
     "output_type": "stream",
     "text": [
      "Part 2a:\n",
      "Mean: 5.870831999999999\n",
      "STD: 2.130116361240505\n",
      "Standard Error: 0.30124394474991495\n"
     ]
    }
   ],
   "source": [
    "import pandas as pd\n",
    "df_q2 = pd.read_csv(\"paperclips2.csv\")\n",
    "print(f\"Part 2a:\\nMean: {df_q2.length.mean()}\")\n",
    "print(f\"STD: {df_q2.length.std()}\")\n",
    "print(f\"Standard Error: {df_q2.length.std()/df_q2.length.count()**0.5}\")"
   ]
  },
  {
   "cell_type": "code",
   "execution_count": 4,
   "metadata": {},
   "outputs": [
    {
     "name": "stdout",
     "output_type": "stream",
     "text": [
      "Part 2b: 5.280393868290166 ≤ µ ≤ 6.461270131709832\n",
      "This means mean length is greater than 5.28 and less than 6.46. This can be said with 95% confidence\n"
     ]
    }
   ],
   "source": [
    "bounds = q_1(CI=0.95, n=df_q2.length.count(), x_bar=df_q2.length.mean(), std=df_q2.length.std())\n",
    "print(f'Part 2b: {bounds[0]} ≤ µ ≤ {bounds[1]}')\n",
    "print(\"This means mean length is greater than 5.28 and less than 6.46. This can be said with 95% confidence\")"
   ]
  },
  {
   "cell_type": "code",
   "execution_count": 11,
   "metadata": {},
   "outputs": [
    {
     "name": "stdout",
     "output_type": "stream",
     "text": [
      "Part 2c: µ ≤ 6.366393351310847\n",
      "It can be said with 95% confidence that upper mean length is less than 6.46\n"
     ]
    }
   ],
   "source": [
    "def ci_right_sided(CI, n, x_bar = 60, std=3, ):\n",
    "    if CI > 1:\n",
    "        CI = CI/100\n",
    "    if CI == 0.95:\n",
    "        z = 1.64505\n",
    "    # elif CI == 0.82:\n",
    "    #     z = 1.341\n",
    "    # elif CI == 0.99:\n",
    "    #     z = 2.576\n",
    "    else:\n",
    "        raise \"Unknown CI\"\n",
    "    \n",
    "    # lower_bound = x_bar - z*std/n**0.5\n",
    "    upper_bound = x_bar + z*std/n**0.5\n",
    "\n",
    "    return upper_bound\n",
    "\n",
    "print(f'Part 2c: µ ≤ {ci_right_sided(CI=95, n=df_q2.length.count(),x_bar=df_q2.length.mean(), std=df_q2.length.std())}')\n",
    "print(\"It can be said with 95% confidence that upper mean length is less than 6.36\")"
   ]
  },
  {
   "attachments": {},
   "cell_type": "markdown",
   "metadata": {},
   "source": [
    "### Question 3"
   ]
  },
  {
   "cell_type": "code",
   "execution_count": 6,
   "metadata": {},
   "outputs": [
    {
     "name": "stdout",
     "output_type": "stream",
     "text": [
      "3(a) Best Point Estimate:  0.06896551724137931\n"
     ]
    }
   ],
   "source": [
    "print(\"3(a) Best Point Estimate: \", 10/145)"
   ]
  },
  {
   "cell_type": "code",
   "execution_count": 7,
   "metadata": {},
   "outputs": [],
   "source": [
    "def q_3(p_hat, n, CI):\n",
    "    if CI > 1:\n",
    "        CI = CI/100\n",
    "    if CI == 0.95:\n",
    "        z = 1.96\n",
    "    elif CI == 0.82:\n",
    "        z = 1.341\n",
    "    elif CI == 0.99:\n",
    "        z = 2.576\n",
    "    elif CI == 0.90:\n",
    "        z = 1.645\n",
    "    else:\n",
    "        raise \"Unknown CI\"\n",
    "    \n",
    "    lower_bound = p_hat - z*(p_hat*(1-p_hat)/n)**0.5\n",
    "    upper_bound = p_hat + z*(p_hat*(1-p_hat)/n)**0.5\n",
    "\n",
    "    return lower_bound, upper_bound"
   ]
  },
  {
   "cell_type": "code",
   "execution_count": 8,
   "metadata": {},
   "outputs": [
    {
     "name": "stdout",
     "output_type": "stream",
     "text": [
      "3(b) nπ =  10.0  hence Z can be used.\n",
      "0.0343492063065307 ≤ π ≤ 0.10358182817622792\n",
      "3(c) Since the max is 0.10 i.e 10%, it can be safely concluded less than 15% develop squeaing\n"
     ]
    }
   ],
   "source": [
    "print(\"3(b) nπ = \", 10*145/145, \" hence Z can be used.\")\n",
    "print(q_3(p_hat=10/145, n=145, CI=0.90)[0], \"≤ π ≤\", q_3(p_hat=10/145, n=145, CI=0.90)[1])\n",
    "\n",
    "print(\"3(c) Since the max is 0.10 i.e 10%, it can be safely concluded less than 15% develop squeaing\")"
   ]
  },
  {
   "attachments": {},
   "cell_type": "markdown",
   "metadata": {},
   "source": [
    "### Question 4"
   ]
  },
  {
   "cell_type": "code",
   "execution_count": 9,
   "metadata": {},
   "outputs": [],
   "source": [
    "def q_4(n, s, CI):\n",
    "    if CI > 1:\n",
    "        CI/=100\n",
    "    if CI == 0.95 and n==22:\n",
    "        critical_value_lower = 35.478\n",
    "        critical_value_upper = 10.283\n",
    "    if CI == 0.95 and n == 9:\n",
    "        critical_value_lower = 17.535\n",
    "        critical_value_upper = 2.180\n",
    "    if CI==0.90 and n==75:\n",
    "        critical_value_lower = 95.081\n",
    "        critical_value_upper = 55.189\n",
    "    if CI==0.95 and n==75:\n",
    "        critical_value_lower = 99.678\n",
    "        critical_value_upper = 52.103\n",
    "\n",
    "    lower_bound = ((n-1)*s**2/critical_value_lower)**0.5\n",
    "    upper_bound = ((n-1)*s**2/critical_value_upper)**0.5\n",
    "\n",
    "    return lower_bound, upper_bound\n",
    "        "
   ]
  },
  {
   "cell_type": "code",
   "execution_count": 10,
   "metadata": {},
   "outputs": [
    {
     "name": "stdout",
     "output_type": "stream",
     "text": [
      "4(a) 3.6024408326204735 ≤ σ^2 ≤ 28.976513761467885\n",
      "4(b) 1.8980097029837528 ≤ σ ≤ 5.38298372294287\n"
     ]
    }
   ],
   "source": [
    "lower, upper = q_4(n=9, s=2.81, CI=95)\n",
    "print(f\"4(a) {lower**2} ≤ σ^2 ≤ {upper**2}\")\n",
    "print(f\"4(b) {lower} ≤ σ ≤ {upper}\")"
   ]
  },
  {
   "attachments": {},
   "cell_type": "markdown",
   "metadata": {},
   "source": [
    "### Question 5 - Pain in the ass"
   ]
  },
  {
   "attachments": {},
   "cell_type": "markdown",
   "metadata": {},
   "source": [
    "(a) Since 95% CI caters to more range of values, its wider than 90%"
   ]
  },
  {
   "attachments": {},
   "cell_type": "markdown",
   "metadata": {},
   "source": [
    "(b) The 95% value means u lies within a range and will only be in this range for 95% of the time."
   ]
  },
  {
   "attachments": {},
   "cell_type": "markdown",
   "metadata": {},
   "source": [
    "(c) The distribution of a population is represented by several factors but Confidence interval is not one of them so no, the statement was incorrect."
   ]
  },
  {
   "attachments": {},
   "cell_type": "markdown",
   "metadata": {},
   "source": [
    "(d) Yes, because that's what CI means....."
   ]
  }
 ],
 "metadata": {
  "kernelspec": {
   "display_name": "stats614",
   "language": "python",
   "name": "python3"
  },
  "language_info": {
   "codemirror_mode": {
    "name": "ipython",
    "version": 3
   },
   "file_extension": ".py",
   "mimetype": "text/x-python",
   "name": "python",
   "nbconvert_exporter": "python",
   "pygments_lexer": "ipython3",
   "version": "3.7.7"
  },
  "orig_nbformat": 4,
  "vscode": {
   "interpreter": {
    "hash": "85418a1e6389e34790ddcbb25115015231c0136c1575c08c8875bef9d00c430b"
   }
  }
 },
 "nbformat": 4,
 "nbformat_minor": 2
}
